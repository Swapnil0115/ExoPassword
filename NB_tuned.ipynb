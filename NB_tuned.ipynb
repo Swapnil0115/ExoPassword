{
  "nbformat": 4,
  "nbformat_minor": 0,
  "metadata": {
    "colab": {
      "name": "NB_tuned.ipynb",
      "provenance": [],
      "authorship_tag": "ABX9TyM7cww7gL6E7+Sd6uUAaC9U"
    },
    "kernelspec": {
      "name": "python3",
      "display_name": "Python 3"
    },
    "language_info": {
      "name": "python"
    }
  },
  "cells": [
    {
      "cell_type": "code",
      "metadata": {
        "id": "_gXKNZ-DsgdY"
      },
      "source": [
        "# Naive Bayes\n",
        "\n",
        "# Import the necessary Libraries\n",
        "import pandas as pd\n",
        "import numpy as np\n",
        "\n",
        "import time\n",
        "import seaborn as sns\n",
        "import matplotlib.pyplot as plt\n",
        "\n",
        "\n",
        "# For text feature extraction\n",
        "from sklearn.feature_extraction.text import TfidfVectorizer\n",
        "\n",
        "# For creating a pipeline\n",
        "from sklearn.pipeline import Pipeline\n",
        "\n",
        "# Classifier Model (Naive Bayes)\n",
        "from sklearn.naive_bayes import BernoulliNB\n",
        "\n",
        "# To save the trained model on local storage\n",
        "import joblib"
      ],
      "execution_count": 1,
      "outputs": []
    },
    {
      "cell_type": "code",
      "metadata": {
        "id": "JsFzP8FctDnr"
      },
      "source": [
        "# Read the File\n",
        "data = pd.read_csv('data.csv')\n",
        "\n",
        "# Features which are passwords\n",
        "features = data.values[:, 1].astype('str')\n",
        "\n",
        "# Labels which are strength of password\n",
        "labels = data.values[:, -1].astype('int')"
      ],
      "execution_count": 2,
      "outputs": []
    },
    {
      "cell_type": "code",
      "metadata": {
        "colab": {
          "base_uri": "https://localhost:8080/",
          "height": 374
        },
        "id": "HaorFptJtHyy",
        "outputId": "2a093997-9f87-4a63-e01d-ab0ad80c7cd8"
      },
      "source": [
        "plt.figure(figsize = (15, 6))\n",
        "sns.countplot(x=labels);"
      ],
      "execution_count": 3,
      "outputs": [
        {
          "output_type": "display_data",
          "data": {
            "image/png": "[encoded data removed]",
            "text/plain": [
              "<Figure size 1080x432 with 1 Axes>"
            ]
          },
          "metadata": {
            "tags": [],
            "needs_background": "light"
          }
        }
      ]
    },
    {
      "cell_type": "code",
      "metadata": {
        "id": "tK-eXg5HtX-y"
      },
      "source": [
        "classifier_model = Pipeline([\n",
        "                ('tfidf', TfidfVectorizer(analyzer='char')),\n",
        "                ('bernoulliNB',BernoulliNB()),\n",
        "])"
      ],
      "execution_count": 4,
      "outputs": []
    },
    {
      "cell_type": "code",
      "metadata": {
        "id": "hPQzog_Nt6w8"
      },
      "source": [
        "vectorizer=TfidfVectorizer(analyzer='char',ngram_range=(1,2))\n",
        "vectorized=vectorizer.fit_transform(features)\n",
        "all_ngrams = vectorizer.get_feature_names()\n",
        "# display top min(50,len(all_ngrams) of the most frequent words\n",
        "num_ngrams = min(50, len(all_ngrams))\n",
        "\n",
        "# count the number of words in the total corpse\n",
        "all_counts = vectorized.sum(axis=0).tolist()[0]"
      ],
      "execution_count": 5,
      "outputs": []
    },
    {
      "cell_type": "code",
      "metadata": {
        "id": "QRFgtmMGy8zZ"
      },
      "source": [
        "from sklearn.model_selection import train_test_split\n",
        "X_train, X_test, y_train, y_test=train_test_split(features,labels,test_size=0.20,random_state=0)\n",
        "X_train=vectorizer.fit_transform(X_train)\n",
        "X_test=vectorizer.transform(X_test)"
      ],
      "execution_count": 6,
      "outputs": []
    },
    {
      "cell_type": "code",
      "metadata": {
        "colab": {
          "base_uri": "https://localhost:8080/"
        },
        "id": "vUjdc-pOxNNK",
        "outputId": "35c55de3-a38f-46c4-c0ab-1da811660aa9"
      },
      "source": [
        "from sklearn.model_selection import GridSearchCV\n",
        "\n",
        "\n",
        "alpha=[float(x) for x in np.linspace(start=0.01,stop=0.1,num=100)]\n",
        "\n",
        "# Create the random grid\n",
        "param_grid = {'alpha': alpha}\n",
        "\n",
        "\n",
        "\n",
        "from sklearn.metrics import make_scorer, accuracy_score, precision_score, recall_score, f1_score\n",
        "scoring = {'accuracy': make_scorer(accuracy_score),\n",
        "           'precision': make_scorer(precision_score, average = 'macro'),\n",
        "           'recall': make_scorer(recall_score, average = 'macro'),\n",
        "           'f1': make_scorer(f1_score, average = 'macro')}\n",
        "\n",
        "nb=BernoulliNB()\n",
        "\n",
        "grid_search_nb = GridSearchCV(nb, param_grid = param_grid, scoring = scoring, refit='f1',verbose=3,n_jobs=-1)\n",
        "grid_search_nb.fit(X_train, y_train)\n",
        "grid_search_nb.best_estimator_\n"
      ],
      "execution_count": 7,
      "outputs": [
        {
          "output_type": "stream",
          "text": [
            "Fitting 5 folds for each of 100 candidates, totalling 500 fits\n"
          ],
          "name": "stdout"
        },
        {
          "output_type": "stream",
          "text": [
            "[Parallel(n_jobs=-1)]: Using backend LokyBackend with 2 concurrent workers.\n",
            "[Parallel(n_jobs=-1)]: Done  28 tasks      | elapsed:   10.4s\n",
            "[Parallel(n_jobs=-1)]: Done 124 tasks      | elapsed:   41.7s\n",
            "[Parallel(n_jobs=-1)]: Done 284 tasks      | elapsed:  1.5min\n",
            "[Parallel(n_jobs=-1)]: Done 500 out of 500 | elapsed:  2.7min finished\n"
          ],
          "name": "stderr"
        },
        {
          "output_type": "execute_result",
          "data": {
            "text/plain": [
              "BernoulliNB(alpha=0.017272727272727273, binarize=0.0, class_prior=None,\n",
              "            fit_prior=True)"
            ]
          },
          "metadata": {
            "tags": []
          },
          "execution_count": 7
        }
      ]
    },
    {
      "cell_type": "code",
      "metadata": {
        "colab": {
          "base_uri": "https://localhost:8080/",
          "height": 134
        },
        "id": "LVWa-9pGz7AH",
        "outputId": "aea30e52-b362-429b-d908-a2f94a37588f"
      },
      "source": [
        "results=pd.DataFrame(grid_search_nb.cv_results_)\n",
        "results=results[results.mean_test_f1!=np.nan]\n",
        "print(results.shape)\n",
        "results.loc[results['params']=={'alpha': 0.017272727272727273}]"
      ],
      "execution_count": 8,
      "outputs": [
        {
          "output_type": "stream",
          "text": [
            "(100, 38)\n"
          ],
          "name": "stdout"
        },
        {
          "output_type": "execute_result",
          "data": {
            "text/html": [
              "<div>\n",
              "<style scoped>\n",
              "    .dataframe tbody tr th:only-of-type {\n",
              "        vertical-align: middle;\n",
              "    }\n",
              "\n",
              "    .dataframe tbody tr th {\n",
              "        vertical-align: top;\n",
              "    }\n",
              "\n",
              "    .dataframe thead th {\n",
              "        text-align: right;\n",
              "    }\n",
              "</style>\n",
              "<table border=\"1\" class=\"dataframe\">\n",
              "  <thead>\n",
              "    <tr style=\"text-align: right;\">\n",
              "      <th></th>\n",
              "      <th>mean_fit_time</th>\n",
              "      <th>std_fit_time</th>\n",
              "      <th>mean_score_time</th>\n",
              "      <th>std_score_time</th>\n",
              "      <th>param_alpha</th>\n",
              "      <th>params</th>\n",
              "      <th>split0_test_accuracy</th>\n",
              "      <th>split1_test_accuracy</th>\n",
              "      <th>split2_test_accuracy</th>\n",
              "      <th>split3_test_accuracy</th>\n",
              "      <th>split4_test_accuracy</th>\n",
              "      <th>mean_test_accuracy</th>\n",
              "      <th>std_test_accuracy</th>\n",
              "      <th>rank_test_accuracy</th>\n",
              "      <th>split0_test_precision</th>\n",
              "      <th>split1_test_precision</th>\n",
              "      <th>split2_test_precision</th>\n",
              "      <th>split3_test_precision</th>\n",
              "      <th>split4_test_precision</th>\n",
              "      <th>mean_test_precision</th>\n",
              "      <th>std_test_precision</th>\n",
              "      <th>rank_test_precision</th>\n",
              "      <th>split0_test_recall</th>\n",
              "      <th>split1_test_recall</th>\n",
              "      <th>split2_test_recall</th>\n",
              "      <th>split3_test_recall</th>\n",
              "      <th>split4_test_recall</th>\n",
              "      <th>mean_test_recall</th>\n",
              "      <th>std_test_recall</th>\n",
              "      <th>rank_test_recall</th>\n",
              "      <th>split0_test_f1</th>\n",
              "      <th>split1_test_f1</th>\n",
              "      <th>split2_test_f1</th>\n",
              "      <th>split3_test_f1</th>\n",
              "      <th>split4_test_f1</th>\n",
              "      <th>mean_test_f1</th>\n",
              "      <th>std_test_f1</th>\n",
              "      <th>rank_test_f1</th>\n",
              "    </tr>\n",
              "  </thead>\n",
              "  <tbody>\n",
              "    <tr>\n",
              "      <th>8</th>\n",
              "      <td>0.400387</td>\n",
              "      <td>0.004762</td>\n",
              "      <td>0.268288</td>\n",
              "      <td>0.007852</td>\n",
              "      <td>0.0172727</td>\n",
              "      <td>{'alpha': 0.017272727272727273}</td>\n",
              "      <td>0.824775</td>\n",
              "      <td>0.823113</td>\n",
              "      <td>0.819985</td>\n",
              "      <td>0.822572</td>\n",
              "      <td>0.823655</td>\n",
              "      <td>0.82282</td>\n",
              "      <td>0.001594</td>\n",
              "      <td>20</td>\n",
              "      <td>0.729576</td>\n",
              "      <td>0.72761</td>\n",
              "      <td>0.722164</td>\n",
              "      <td>0.726617</td>\n",
              "      <td>0.727388</td>\n",
              "      <td>0.726671</td>\n",
              "      <td>0.002456</td>\n",
              "      <td>47</td>\n",
              "      <td>0.744868</td>\n",
              "      <td>0.743576</td>\n",
              "      <td>0.739498</td>\n",
              "      <td>0.743173</td>\n",
              "      <td>0.748216</td>\n",
              "      <td>0.743866</td>\n",
              "      <td>0.002813</td>\n",
              "      <td>4</td>\n",
              "      <td>0.734916</td>\n",
              "      <td>0.732912</td>\n",
              "      <td>0.728508</td>\n",
              "      <td>0.732448</td>\n",
              "      <td>0.735168</td>\n",
              "      <td>0.73279</td>\n",
              "      <td>0.002394</td>\n",
              "      <td>1</td>\n",
              "    </tr>\n",
              "  </tbody>\n",
              "</table>\n",
              "</div>"
            ],
            "text/plain": [
              "   mean_fit_time  std_fit_time  ...  std_test_f1  rank_test_f1\n",
              "8       0.400387      0.004762  ...     0.002394             1\n",
              "\n",
              "[1 rows x 38 columns]"
            ]
          },
          "metadata": {
            "tags": []
          },
          "execution_count": 8
        }
      ]
    },
    {
      "cell_type": "code",
      "metadata": {
        "colab": {
          "base_uri": "https://localhost:8080/",
          "height": 282
        },
        "id": "v0GuaeEj1N28",
        "outputId": "477d080a-14fa-4432-ac3e-c64a075ce1eb"
      },
      "source": [
        "f1trains=[]\n",
        "for i in range(100):\n",
        "  nb_temp=BernoulliNB(alpha=results['params'][i]['alpha'])\n",
        "  nb_temp.fit(X_train,y_train)\n",
        "  y_pred_train=nb_temp.predict(X_train)\n",
        "  f1trains.append(f1_score(y_train, y_pred_train, average='macro'))\n",
        "\n",
        "fig, ax = plt.subplots();\n",
        "plt.figure(figsize=(12, 10));\n",
        "sns.lineplot(x=[i for i in range(100)],y=[f1trains[i] for i in range(100)],ax=ax);\n",
        "sns.lineplot(x=[i for i in range(100)],y=[results['mean_test_f1'][i] for i in range(100)],ax=ax,color='r');\n",
        "plt.show();"
      ],
      "execution_count": 9,
      "outputs": [
        {
          "output_type": "display_data",
          "data": {
            "image/png": "[encoded data removed]",
            "text/plain": [
              "<Figure size 432x288 with 1 Axes>"
            ]
          },
          "metadata": {
            "tags": [],
            "needs_background": "light"
          }
        },
        {
          "output_type": "display_data",
          "data": {
            "text/plain": [
              "<Figure size 864x720 with 0 Axes>"
            ]
          },
          "metadata": {
            "tags": []
          }
        }
      ]
    },
    {
      "cell_type": "code",
      "metadata": {
        "colab": {
          "base_uri": "https://localhost:8080/"
        },
        "id": "0DiDYO4_5ANW",
        "outputId": "951c7646-6f74-4310-9244-fbfa37de44ea"
      },
      "source": [
        "start_time = time.time()\n",
        "nb=BernoulliNB(alpha=0.0172727)\n",
        "print(\"Time Taken to train the model = %s seconds\" % round((time.time() - start_time),2))\n",
        "print()\n",
        "print()\n",
        "nb.fit(X_train,y_train)\n",
        "y_pred = nb.predict(X_train)\n",
        "from sklearn.metrics import classification_report, confusion_matrix, accuracy_score\n",
        "\n",
        "print(confusion_matrix(y_train,y_pred))\n",
        "print(classification_report(y_train,y_pred))\n",
        "print(accuracy_score(y_train, y_pred))"
      ],
      "execution_count": 10,
      "outputs": [
        {
          "output_type": "stream",
          "text": [
            "Time Taken to train the model = 0.0 seconds\n",
            "\n",
            "\n",
            "[[ 41062  29786    736]\n",
            " [ 23602 347537  25929]\n",
            " [    55  13777  53056]]\n",
            "              precision    recall  f1-score   support\n",
            "\n",
            "           0       0.63      0.57      0.60     71584\n",
            "           1       0.89      0.88      0.88    397068\n",
            "           2       0.67      0.79      0.72     66888\n",
            "\n",
            "    accuracy                           0.82    535540\n",
            "   macro avg       0.73      0.75      0.74    535540\n",
            "weighted avg       0.83      0.82      0.82    535540\n",
            "\n",
            "0.8246909661276468\n"
          ],
          "name": "stdout"
        }
      ]
    },
    {
      "cell_type": "code",
      "metadata": {
        "colab": {
          "base_uri": "https://localhost:8080/"
        },
        "id": "XIMEUrnu4IB7",
        "outputId": "1bbd6504-093f-48b0-d5f6-8ebb0b9a6253"
      },
      "source": [
        "\n",
        "y_pred = nb.predict(X_test)\n",
        "from sklearn.metrics import classification_report, confusion_matrix, accuracy_score\n",
        "\n",
        "print(confusion_matrix(y_test,y_pred))\n",
        "print(classification_report(y_test,y_pred))\n",
        "print(accuracy_score(y_test, y_pred))"
      ],
      "execution_count": 11,
      "outputs": [
        {
          "output_type": "stream",
          "text": [
            "[[10199  7694   185]\n",
            " [ 6048 87028  6506]\n",
            " [   12  3375 12838]]\n",
            "              precision    recall  f1-score   support\n",
            "\n",
            "           0       0.63      0.56      0.59     18078\n",
            "           1       0.89      0.87      0.88     99582\n",
            "           2       0.66      0.79      0.72     16225\n",
            "\n",
            "    accuracy                           0.82    133885\n",
            "   macro avg       0.72      0.74      0.73    133885\n",
            "weighted avg       0.82      0.82      0.82    133885\n",
            "\n",
            "0.8220861186839452\n"
          ],
          "name": "stdout"
        }
      ]
    },
    {
      "cell_type": "code",
      "metadata": {
        "colab": {
          "base_uri": "https://localhost:8080/",
          "height": 902
        },
        "id": "6L4s0U4qwGJ8",
        "outputId": "15e77c7d-613e-42b8-82c2-ec863076ce26"
      },
      "source": [
        "from sklearn.feature_extraction.text import TfidfVectorizer\n",
        "vectorizer = TfidfVectorizer(analyzer='char',ngram_range=(1,2))\n",
        "vect_texts = vectorizer.fit_transform(features)\n",
        "all_ngrams = vectorizer.get_feature_names()\n",
        "# display top min(50,len(all_ngrams) of the most frequent words\n",
        "num_ngrams = min(50, len(all_ngrams))\n",
        "\n",
        "# count the number of words in the total corpse\n",
        "all_counts = vect_texts.sum(axis=0).tolist()[0]\n",
        "\n",
        "# loop the words(features) with counts using zip function\n",
        "all_ngrams, all_counts = zip(*[(n, c) for c, n in sorted(zip(all_counts, all_ngrams), reverse=True)])\n",
        "ngrams = all_ngrams[:num_ngrams]\n",
        "counts = all_counts[:num_ngrams]\n",
        "\n",
        "idx = np.arange(num_ngrams)\n",
        "\n",
        "# Let's now plot a frequency distribution plot of the most seen words in the corpus.\n",
        "plt.figure(figsize=(15, 15))\n",
        "plt.bar(idx, counts, width=0.8, color = \"blue\")\n",
        "plt.xlabel('N-grams')\n",
        "plt.ylabel('Frequencies')\n",
        "plt.title('Frequency distribution of ngrams')\n",
        "plt.xticks(idx, ngrams, rotation=45)\n",
        "plt.show()"
      ],
      "execution_count": 12,
      "outputs": [
        {
          "output_type": "display_data",
          "data": {
            "image/png": "[encoded data removed]",
            "text/plain": [
              "<Figure size 1080x1080 with 1 Axes>"
            ]
          },
          "metadata": {
            "tags": [],
            "needs_background": "light"
          }
        }
      ]
    },
    {
      "cell_type": "code",
      "metadata": {
        "colab": {
          "base_uri": "https://localhost:8080/",
          "height": 935
        },
        "id": "s0tPTttq7sOc",
        "outputId": "a2466305-e485-492e-eb22-3fa39db24095"
      },
      "source": [
        "from sklearn.feature_extraction.text import TfidfVectorizer\n",
        "vectorizer = TfidfVectorizer()\n",
        "vect_texts = vectorizer.fit_transform(features)\n",
        "all_ngrams = vectorizer.get_feature_names()\n",
        "# display top min(50,len(all_ngrams) of the most frequent words\n",
        "num_ngrams = min(50, len(all_ngrams))\n",
        "\n",
        "# count the number of words in the total corpse\n",
        "all_counts = vect_texts.sum(axis=0).tolist()[0]\n",
        "\n",
        "# loop the words(features) with counts using zip function\n",
        "all_ngrams, all_counts = zip(*[(n, c) for c, n in sorted(zip(all_counts, all_ngrams), reverse=True)])\n",
        "ngrams = all_ngrams[:num_ngrams]\n",
        "counts = all_counts[:num_ngrams]\n",
        "\n",
        "idx = np.arange(num_ngrams)\n",
        "\n",
        "# Let's now plot a frequency distribution plot of the most seen words in the corpus.\n",
        "plt.figure(figsize=(15, 15))\n",
        "plt.bar(idx, counts, width=0.8, color = \"blue\")\n",
        "plt.xlabel('N-grams')\n",
        "plt.ylabel('Frequencies')\n",
        "plt.title('Frequency distribution of ngrams')\n",
        "plt.xticks(idx, ngrams, rotation=45)\n",
        "plt.show()"
      ],
      "execution_count": 13,
      "outputs": [
        {
          "output_type": "display_data",
          "data": {
            "image/png": "[encoded data removed]",
            "text/plain": [
              "<Figure size 1080x1080 with 1 Axes>"
            ]
          },
          "metadata": {
            "tags": [],
            "needs_background": "light"
          }
        }
      ]
    },
    {
      "cell_type": "code",
      "metadata": {
        "id": "C9y_B7Czu0c9"
      },
      "source": [
        "#TODO SMOTE"
      ],
      "execution_count": 14,
      "outputs": []
    }
  ]
}